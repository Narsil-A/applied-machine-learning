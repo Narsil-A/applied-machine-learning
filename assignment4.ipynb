{
 "cells": [
  {
   "cell_type": "markdown",
   "id": "69d305e9",
   "metadata": {
    "deletable": false,
    "editable": false,
    "nbgrader": {
     "cell_type": "markdown",
     "checksum": "e532a7b0bbaf722cc8e5496bfde02472",
     "grade": false,
     "grade_id": "cell-24e3b5e89f5669c5",
     "locked": true,
     "schema_version": 3,
     "solution": false,
     "task": false
    }
   },
   "source": [
    "---\n",
    "\n",
    "_You are currently looking at **version 1.0** of this notebook. To download notebooks and datafiles, as well as get help on Jupyter notebooks in the Coursera platform, visit the Jupyter Notebook FAQ course resource._\n",
    "\n",
    "---"
   ]
  },
  {
   "cell_type": "markdown",
   "id": "0be71ec1",
   "metadata": {
    "deletable": false,
    "editable": false,
    "nbgrader": {
     "cell_type": "markdown",
     "checksum": "2ddd869ec642dbe6404672b445fd4dd1",
     "grade": false,
     "grade_id": "cell-6757b7ecd16ad875",
     "locked": true,
     "schema_version": 3,
     "solution": false,
     "task": false
    }
   },
   "source": [
    "# Assignment 4 - Predicting and understanding viewer engagement with educational videos \n",
    "\n",
    "With the accelerating popularity of online educational experiences, the role of online lectures and other educational video continues to increase in scope and importance. Open access educational repositories such as <a href=\"http://videolectures.net/\">videolectures.net</a>, as well as Massive Open Online Courses (MOOCs) on platforms like Coursera, have made access to many thousands of lectures and tutorials an accessible option for millions of people around the world. Yet this impressive volume of content has also led to a challenge in how to find, filter, and match these videos with learners. This assignment gives you an example of how machine learning can be used to address part of that challenge.\n",
    "\n",
    "## About the prediction problem\n",
    "\n",
    "One critical property of a video is engagement: how interesting or \"engaging\" it is for viewers, so that they decide to keep watching. Engagement is critical for learning, whether the instruction is coming from a video or any other source. There are many ways to define engagement with video, but one common approach is to estimate it by measuring how much of the video a user watches. If the video is not interesting and does not engage a viewer, they will typically abandon it quickly, e.g. only watch 5 or 10% of the total. \n",
    "\n",
    "A first step towards providing the best-matching educational content is to understand which features of educational material make it engaging for learners in general. This is where predictive modeling can be applied, via supervised machine learning. For this assignment, your task is to predict how engaging an educational video is likely to be for viewers, based on a set of features extracted from the video's transcript, audio track, hosting site, and other sources.\n",
    "\n",
    "We chose this prediction problem for several reasons:\n",
    "\n",
    "* It combines a variety of features derived from a rich set of resources connected to the original data;\n",
    "* The manageable dataset size means the dataset and supervised models for it can be easily explored on a wide variety of computing platforms;\n",
    "* Predicting popularity or engagement for a media item, especially combined with understanding which features contribute to its success with viewers, is a fun problem but also a practical representative application of machine learning in a number of business and educational sectors.\n",
    "\n",
    "\n",
    "## About the dataset\n",
    "\n",
    "We extracted training and test datasets of educational video features from the VLE Dataset put together by researcher Sahan Bulathwela at University College London. \n",
    "\n",
    "We provide you with two data files for use in training and validating your models: train.csv and test.csv. Each row in these two files corresponds to a single educational video, and includes information about diverse properties of the video content as described further below. The target variable is `engagement` which was defined as True if the median percentage of the video watched across all viewers was at least 30%, and False otherwise.\n",
    "\n",
    "Note: Any extra variables that may be included in the training set are simply for your interest if you want an additional source of data for visualization, or to enable unsupervised and semi-supervised approaches. However, they are not included in the test set and thus cannot be used for prediction. **Only the data already included in your Coursera directory can be used for training the model for this assignment.**\n",
    "\n",
    "For this final assignment, you will bring together what you've learned across all four weeks of this course, by exploring different prediction models for this new dataset. In addition, we encourage you to apply what you've learned about model selection to do hyperparameter tuning using training/validation splits of the training data, to optimize the model and further increase its performance. In addition to a basic evaluation of model accuracy, we've also provided a utility function to visualize which features are most and least contributing to the overall model performance.\n",
    "\n",
    "**File descriptions** \n",
    "    assets/train.csv - the training set (Use only this data for training your model!)\n",
    "    assets/test.csv - the test set\n",
    "<br>\n",
    "\n",
    "**Data fields**\n",
    "\n",
    "train.csv & test.csv:\n",
    "\n",
    "    title_word_count - the number of words in the title of the video.\n",
    "    \n",
    "    document_entropy - a score indicating how varied the topics are covered in the video, based on the transcript. Videos with smaller entropy scores will tend to be more cohesive and more focused on a single topic.\n",
    "    \n",
    "    freshness - The number of days elapsed between 01/01/1970 and the lecture published date. Videos that are more recent will have higher freshness values.\n",
    "    \n",
    "    easiness - A text difficulty measure applied to the transcript. A lower score indicates more complex language used by the presenter.\n",
    "    \n",
    "    fraction_stopword_presence - A stopword is a very common word like 'the' or 'and'. This feature computes the fraction of all words that are stopwords in the video lecture transcript.\n",
    "    \n",
    "    speaker_speed - The average speaking rate in words per minute of the presenter in the video.\n",
    "    \n",
    "    silent_period_rate - The fraction of time in the lecture video that is silence (no speaking).\n",
    "    \n",
    "train.csv only:\n",
    "    \n",
    "    engagement - Target label for training. True if learners watched a substantial portion of the video (see description), or False otherwise.\n",
    "    \n",
    "\n",
    "## Evaluation\n",
    "\n",
    "Your predictions will be given as the probability that the corresponding video will be engaging to learners.\n",
    "\n",
    "The evaluation metric for this assignment is the Area Under the ROC Curve (AUC). \n",
    "\n",
    "Your grade will be based on the AUC score computed for your classifier. A model with an AUC (area under ROC curve) of at least 0.8 passes this assignment, and over 0.85 will receive full points.\n",
    "___\n",
    "\n",
    "For this assignment, create a function that trains a model to predict significant learner engagement with a video using `asset/train.csv`. Using this model, return a Pandas Series object of length 2309 with the data being the probability that each corresponding video from `readonly/test.csv` will be engaging (according to a model learned from the 'engagement' label in the training set), and the video index being in the `id` field.\n",
    "\n",
    "Example:\n",
    "\n",
    "    id\n",
    "       9240    0.401958\n",
    "       9241    0.105928\n",
    "       9242    0.018572\n",
    "                 ...\n",
    "       9243    0.208567\n",
    "       9244    0.818759\n",
    "       9245    0.018528\n",
    "             ...\n",
    "       Name: engagement, dtype: float32\n",
    "       \n",
    "### Hints\n",
    "\n",
    "* Make sure your code is working before submitting it to the autograder.\n",
    "\n",
    "* Print out and check your result to see whether there is anything weird (e.g., all probabilities are the same).\n",
    "\n",
    "* Generally the total runtime should be less than 10 mins. \n",
    "\n",
    "* Try to avoid global variables. If you have other functions besides engagement_model, you should move those functions inside the scope of engagement_model.\n",
    "\n",
    "* Be sure to first check the pinned threads in Week 4's discussion forum if you run into a problem you can't figure out.\n",
    "\n",
    "### Extensions\n",
    "\n",
    "* If this prediction task motivates you to explore further, you can find more details here on the original VLE dataset and others related to video engagement: https://github.com/sahanbull/VLE-Dataset\n",
    "\n"
   ]
  },
  {
   "cell_type": "code",
   "execution_count": 1,
   "id": "1218318f",
   "metadata": {
    "deletable": false,
    "editable": false,
    "nbgrader": {
     "cell_type": "code",
     "checksum": "b7dc38d94db79fb7160854a629c825a8",
     "grade": false,
     "grade_id": "cell-2c0cf4e0ffe5f447",
     "locked": true,
     "schema_version": 3,
     "solution": false,
     "task": false
    }
   },
   "outputs": [],
   "source": [
    "import warnings\n",
    "warnings.filterwarnings(\"ignore\")\n",
    "\n",
    "import os\n",
    "import pandas as pd\n",
    "import numpy as np\n",
    "import matplotlib.pyplot as plt\n",
    "\n",
    "np.random.seed(0)   # Do not change this value: required to be compatible with solutions generated by the autograder."
   ]
  },
  {
   "cell_type": "code",
   "execution_count": 2,
   "id": "90079cb7",
   "metadata": {},
   "outputs": [
    {
     "name": "stdout",
     "output_type": "stream",
     "text": [
      "   id  title_word_count  document_entropy  freshness   easiness  \\\n",
      "0   1                 9          7.753995      16310  75.583936   \n",
      "1   2                 6          8.305269      15410  86.870523   \n",
      "2   3                 3          7.965583      15680  81.915968   \n",
      "3   4                 9          8.142877      15610  80.148937   \n",
      "4   5                 9          8.161250      14920  76.907549   \n",
      "\n",
      "   fraction_stopword_presence  normalization_rate  speaker_speed  \\\n",
      "0                    0.553664            0.034049       2.997753   \n",
      "1                    0.584498            0.018763       2.635789   \n",
      "2                    0.605685            0.030720       2.538095   \n",
      "3                    0.593664            0.016873       2.259055   \n",
      "4                    0.581637            0.023412       2.420000   \n",
      "\n",
      "   silent_period_rate  engagement  \n",
      "0                 0.0        True  \n",
      "1                 0.0       False  \n",
      "2                 0.0       False  \n",
      "3                 0.0       False  \n",
      "4                 0.0       False  \n"
     ]
    }
   ],
   "source": [
    "import pandas as pd\n",
    "\n",
    "# Load the data\n",
    "train_df = pd.read_csv('assets/train.csv')\n",
    "test_df = pd.read_csv('assets/test.csv')\n",
    "\n",
    "# Display the first few rows of the training data\n",
    "print(train_df.head())"
   ]
  },
  {
   "cell_type": "code",
   "execution_count": 3,
   "id": "f059b46f",
   "metadata": {},
   "outputs": [
    {
     "name": "stdout",
     "output_type": "stream",
     "text": [
      "id                            0\n",
      "title_word_count              0\n",
      "document_entropy              0\n",
      "freshness                     0\n",
      "easiness                      0\n",
      "fraction_stopword_presence    0\n",
      "normalization_rate            0\n",
      "speaker_speed                 0\n",
      "silent_period_rate            0\n",
      "engagement                    0\n",
      "dtype: int64\n",
      "                id  title_word_count  document_entropy     freshness  \\\n",
      "count  9239.000000       9239.000000       9239.000000   9239.000000   \n",
      "mean   4620.000000          7.701050          7.792685  14808.587509   \n",
      "std    2667.213902          3.785066          0.697710   1208.953646   \n",
      "min       1.000000          1.000000          0.000000  10830.000000   \n",
      "25%    2310.500000          5.000000          7.594235  14070.000000   \n",
      "50%    4620.000000          7.000000          7.875103  14750.000000   \n",
      "75%    6929.500000         10.000000          8.164166  15600.000000   \n",
      "max    9239.000000         33.000000          9.278573  17430.000000   \n",
      "\n",
      "          easiness  fraction_stopword_presence  normalization_rate  \\\n",
      "count  9239.000000                 9239.000000         9239.000000   \n",
      "mean     84.756029                    0.612214            0.021354   \n",
      "std       8.303489                    0.051872            0.009545   \n",
      "min      28.210966                    0.000000            0.000000   \n",
      "25%      80.415060                    0.589632            0.014974   \n",
      "50%      84.482122                    0.613127            0.019843   \n",
      "75%      88.388711                    0.634585            0.026288   \n",
      "max     122.032000                    1.000000            0.101990   \n",
      "\n",
      "       speaker_speed  silent_period_rate  \n",
      "count    9239.000000         9239.000000  \n",
      "mean        2.413320            0.146606  \n",
      "std         1.588296            0.172030  \n",
      "min         0.000302            0.000000  \n",
      "25%         1.976727            0.000000  \n",
      "50%         2.267133            0.104915  \n",
      "75%         2.539207            0.250927  \n",
      "max        50.850000            1.168239  \n",
      "engagement\n",
      "False    0.902912\n",
      "True     0.097088\n",
      "Name: proportion, dtype: float64\n"
     ]
    }
   ],
   "source": [
    "# Check for missing values\n",
    "print(train_df.isnull().sum())\n",
    "\n",
    "# Basic statistics of the training data\n",
    "print(train_df.describe())\n",
    "\n",
    "# Check the balance of the target variable\n",
    "print(train_df['engagement'].value_counts(normalize=True))"
   ]
  },
  {
   "cell_type": "code",
   "execution_count": 4,
   "id": "7c551cca",
   "metadata": {},
   "outputs": [],
   "source": [
    "from sklearn.model_selection import train_test_split\n",
    "\n",
    "X = train_df.drop(columns=['engagement'])\n",
    "y = train_df['engagement']\n",
    "\n",
    "X_train, X_val, y_train, y_val = train_test_split(X, y, test_size=0.2, random_state=0)"
   ]
  },
  {
   "cell_type": "code",
   "execution_count": 5,
   "id": "8bf495ee",
   "metadata": {},
   "outputs": [
    {
     "name": "stdout",
     "output_type": "stream",
     "text": [
      "Validation AUC: 0.8128588823378621\n"
     ]
    }
   ],
   "source": [
    "from sklearn.linear_model import LogisticRegression\n",
    "from sklearn.metrics import roc_auc_score\n",
    "\n",
    "# Train the model\n",
    "model = LogisticRegression(random_state=0)\n",
    "model.fit(X_train, y_train)\n",
    "\n",
    "# Evaluate the model\n",
    "y_val_pred = model.predict_proba(X_val)[:, 1]\n",
    "print('Validation AUC:', roc_auc_score(y_val, y_val_pred))"
   ]
  },
  {
   "cell_type": "code",
   "execution_count": 9,
   "id": "2fb964db",
   "metadata": {},
   "outputs": [
    {
     "name": "stdout",
     "output_type": "stream",
     "text": [
      "Validation AUC: 0.8776836067674956\n"
     ]
    }
   ],
   "source": [
    "from sklearn.ensemble import RandomForestClassifier\n",
    "from sklearn.metrics import roc_auc_score\n",
    "\n",
    "# Train the model\n",
    "model = RandomForestClassifier(random_state=0)\n",
    "model.fit(X_train, y_train)\n",
    "\n",
    "# Evaluate the model\n",
    "y_val_pred = model.predict_proba(X_val)[:, 1]\n",
    "print('Validation AUC:', roc_auc_score(y_val, y_val_pred))"
   ]
  },
  {
   "cell_type": "code",
   "execution_count": 10,
   "id": "314271a0",
   "metadata": {},
   "outputs": [
    {
     "name": "stdout",
     "output_type": "stream",
     "text": [
      "Best Validation AUC: 0.8130158933606767\n"
     ]
    }
   ],
   "source": [
    "from sklearn.model_selection import GridSearchCV\n",
    "\n",
    "param_grid = {'C': [0.1, 1, 10, 100]}\n",
    "grid_search = GridSearchCV(LogisticRegression(random_state=0), param_grid, scoring='roc_auc', cv=5)\n",
    "grid_search.fit(X_train, y_train)\n",
    "\n",
    "# Best model\n",
    "best_model = grid_search.best_estimator_\n",
    "y_val_pred = best_model.predict_proba(X_val)[:, 1]\n",
    "print('Best Validation AUC:', roc_auc_score(y_val, y_val_pred))"
   ]
  },
  {
   "cell_type": "code",
   "execution_count": 16,
   "id": "a8d179ff",
   "metadata": {
    "deletable": false,
    "nbgrader": {
     "cell_type": "code",
     "checksum": "aef89dbca058b3768c5e369581c14bbb",
     "grade": false,
     "grade_id": "cell-f8da4477c345bf17",
     "locked": false,
     "schema_version": 3,
     "solution": true,
     "task": false
    }
   },
   "outputs": [
    {
     "name": "stdout",
     "output_type": "stream",
     "text": [
      "0    0.011781\n",
      "1    0.091383\n",
      "2    0.100932\n",
      "3    0.745624\n",
      "4    0.018466\n",
      "Name: engagement, dtype: float64\n"
     ]
    }
   ],
   "source": [
    "import pandas as pd\n",
    "from sklearn.model_selection import train_test_split\n",
    "from sklearn.linear_model import LogisticRegression\n",
    "from sklearn.preprocessing import StandardScaler\n",
    "from sklearn.metrics import roc_auc_score\n",
    "\n",
    "def engagement_model():\n",
    "    # Load the data\n",
    "    train_df = pd.read_csv('assets/train.csv')\n",
    "    test_df = pd.read_csv('assets/test.csv')\n",
    "    \n",
    "    # Separate features and target\n",
    "    X = train_df.drop(columns=['engagement'])\n",
    "    y = train_df['engagement']\n",
    "    \n",
    "    # Preprocess the data: Scale the features\n",
    "    scaler = StandardScaler()\n",
    "    X_scaled = scaler.fit_transform(X)\n",
    "    test_scaled = scaler.transform(test_df)\n",
    "    \n",
    "    # Train the model\n",
    "    model = LogisticRegression(random_state=0)\n",
    "    model.fit(X_scaled, y)\n",
    "    \n",
    "    # Make predictions on the test set\n",
    "    test_pred = model.predict_proba(test_scaled)[:, 1]\n",
    "    \n",
    "    # Create the result series with video IDs\n",
    "    result = pd.Series(test_pred, index=test_df.index, name='engagement')\n",
    "    \n",
    "    return result\n",
    "\n",
    "# Call the function to ensure it works correctly\n",
    "stu_ans = engagement_model()\n",
    "print(stu_ans.head())\n",
    "\n",
    "# Assertions to check the output\n",
    "assert isinstance(stu_ans, pd.Series), \"Your function should return a pd.Series.\"\n",
    "assert len(stu_ans) == 2309, \"Your series is of incorrect length: expected 2309.\"\n",
    "assert np.issubdtype(stu_ans.index.dtype, np.integer), \"Your answer pd.Series should have an index of integer type representing video id.\""
   ]
  },
  {
   "cell_type": "code",
   "execution_count": 30,
   "id": "24b6c9cb",
   "metadata": {
    "deletable": false,
    "editable": false,
    "nbgrader": {
     "cell_type": "code",
     "checksum": "bdbc39782ccccaa72a7a808b9025bba9",
     "grade": true,
     "grade_id": "cell-0372cfb70ab9b4de",
     "locked": true,
     "points": 4,
     "schema_version": 3,
     "solution": false,
     "task": false
    }
   },
   "outputs": [
    {
     "name": "stdout",
     "output_type": "stream",
     "text": [
      "id\n",
      "9240    0.01\n",
      "9241    0.06\n",
      "9242    0.02\n",
      "9243    0.87\n",
      "9244    0.06\n",
      "dtype: float32\n",
      "Length of output: 2309\n",
      "\n"
     ]
    }
   ],
   "source": [
    "import pandas as pd\n",
    "from sklearn.model_selection import train_test_split, GridSearchCV\n",
    "from sklearn.ensemble import RandomForestClassifier\n",
    "from sklearn.preprocessing import StandardScaler\n",
    "from sklearn.metrics import roc_auc_score\n",
    "\n",
    "def engagement_model():\n",
    "    # Load the data\n",
    "    train_df = pd.read_csv('assets/train.csv')\n",
    "    test_df = pd.read_csv('assets/test.csv')\n",
    "\n",
    "    # Separate the features and target variable\n",
    "    X = train_df.drop(columns=['engagement', 'id'])  # Drop 'engagement' and 'id' columns\n",
    "    y = train_df['engagement']\n",
    "\n",
    "    # Split into training and validation sets\n",
    "    X_train, X_val, y_train, y_val = train_test_split(X, y, test_size=0.2, random_state=0)\n",
    "\n",
    "    # Preprocess the data: Scale the features\n",
    "    scaler = StandardScaler()\n",
    "    X_train_scaled = scaler.fit_transform(X_train)\n",
    "    X_val_scaled = scaler.transform(X_val)\n",
    "    test_scaled = scaler.transform(test_df.drop(columns=['id']))  # Ensure 'id' is dropped\n",
    "\n",
    "    # Train a Random Forest model with GridSearchCV\n",
    "    param_grid = {\n",
    "        'n_estimators': [50, 100],\n",
    "        'max_depth': [10, None],\n",
    "        'min_samples_split': [2, 5],\n",
    "        'min_samples_leaf': [1, 2],\n",
    "        'bootstrap': [True]\n",
    "    }\n",
    "    grid_search = GridSearchCV(RandomForestClassifier(random_state=0), param_grid, scoring='roc_auc', cv=5)\n",
    "    grid_search.fit(X_train_scaled, y_train)\n",
    "\n",
    "    # Best model from GridSearchCV\n",
    "    best_model = grid_search.best_estimator_\n",
    "\n",
    "    # Predict on the test set\n",
    "    test_pred = best_model.predict_proba(test_scaled)[:, 1]\n",
    "\n",
    "    # Ensure the length of predictions matches the number of test samples\n",
    "    len(test_pred) == len(test_df)\n",
    "\n",
    "    # Create the result series with video IDs and set the data type to float32\n",
    "    result = pd.Series(test_pred, index=test_df['id'], dtype='float32')\n",
    "    \n",
    "    return result\n",
    "\n",
    "# Call the function to ensure it works correctly\n",
    "stu_ans = engagement_model()\n",
    "print(stu_ans.head())\n",
    "print(f'Length of output: {len(stu_ans)}')\n",
    "print()\n",
    "\n",
    "\n",
    "# Assertions to check the output\n",
    "assert isinstance(stu_ans, pd.Series), \"Your function should return a pd.Series.\"\n",
    "assert len(stu_ans) == 2309, \"Your series is of incorrect length: expected 2309\"\n",
    "assert np.issubdtype(stu_ans.index.dtype, np.integer), \"Your answer pd.Series should have an index of integer type representing video id.\""
   ]
  },
  {
   "cell_type": "code",
   "execution_count": 32,
   "id": "42118464",
   "metadata": {
    "deletable": false,
    "editable": false,
    "nbgrader": {
     "cell_type": "code",
     "checksum": "26a7c364781ea24c8e46c623e73c1d4a",
     "grade": true,
     "grade_id": "cell-df6ac3eec5bb54f7",
     "locked": true,
     "points": 1,
     "schema_version": 3,
     "solution": false,
     "task": false
    }
   },
   "outputs": [
    {
     "name": "stdout",
     "output_type": "stream",
     "text": [
      "Validation MSE: 0.05651727490465595\n",
      "id\n",
      "9240    0.010000\n",
      "9241    0.049167\n",
      "9242    0.020167\n",
      "9243    0.889833\n",
      "9244    0.051333\n",
      "dtype: float32\n",
      "Length of output: 2309\n"
     ]
    }
   ],
   "source": [
    "import pandas as pd\n",
    "from sklearn.model_selection import train_test_split, GridSearchCV\n",
    "from sklearn.ensemble import RandomForestRegressor\n",
    "from sklearn.preprocessing import StandardScaler\n",
    "from sklearn.metrics import mean_squared_error\n",
    "\n",
    "def engagement_model():\n",
    "    # Load the data\n",
    "    train_df = pd.read_csv('assets/train.csv')\n",
    "    test_df = pd.read_csv('assets/test.csv')\n",
    "\n",
    "    # Separate the features and target variable\n",
    "    X = train_df.drop(columns=['engagement', 'id'])  # Drop 'engagement' and 'id' columns\n",
    "    y = train_df['engagement'].astype(float)  # Ensure target is float for regression\n",
    "\n",
    "    # Split into training and validation sets\n",
    "    X_train, X_val, y_train, y_val = train_test_split(X, y, test_size=0.2, random_state=0)\n",
    "\n",
    "    # Preprocess the data: Scale the features\n",
    "    scaler = StandardScaler()\n",
    "    X_train_scaled = scaler.fit_transform(X_train)\n",
    "    X_val_scaled = scaler.transform(X_val)\n",
    "    test_scaled = scaler.transform(test_df.drop(columns=['id']))  # Ensure 'id' is dropped\n",
    "\n",
    "    # Train a Random Forest Regressor model with GridSearchCV\n",
    "    param_grid = {\n",
    "        'n_estimators': [50, 100],\n",
    "        'max_depth': [10, None],\n",
    "        'min_samples_split': [2, 5],\n",
    "        'min_samples_leaf': [1, 2],\n",
    "        'bootstrap': [True]\n",
    "    }\n",
    "    grid_search = GridSearchCV(RandomForestRegressor(random_state=0), param_grid, scoring='neg_mean_squared_error', cv=5)\n",
    "    grid_search.fit(X_train_scaled, y_train)\n",
    "\n",
    "    # Best model from GridSearchCV\n",
    "    best_model = grid_search.best_estimator_\n",
    "\n",
    "    # Predict on the validation set to check performance\n",
    "    y_val_pred = best_model.predict(X_val_scaled)\n",
    "    print('Validation MSE:', mean_squared_error(y_val, y_val_pred))\n",
    "\n",
    "    # Predict on the test set\n",
    "    test_pred = best_model.predict(test_scaled)\n",
    "\n",
    "\n",
    "    # Ensure the length of predictions matches the number of test samples\n",
    "    len(test_pred) == len(test_df)\n",
    "\n",
    "    # Create the result series with video IDs and set the data type to float32\n",
    "    result = pd.Series(test_pred, index=test_df['id'], dtype='float32')\n",
    "    \n",
    "    return result\n",
    "\n",
    "# Call the function to ensure it works correctly\n",
    "stu_ans = engagement_model()\n",
    "print(stu_ans.head())\n",
    "print(f'Length of output: {len(stu_ans)}')\n",
    "\n",
    "# Assertions to check the output\n",
    "assert isinstance(stu_ans, pd.Series), \"Your function should return a pd.Series.\"\n",
    "assert len(stu_ans) == 2309, \"Your series is of incorrect length: expected 2309\"\n",
    "assert np.issubdtype(stu_ans.index.dtype, np.integer), \"Your answer pd.Series should have an index of integer type representing video id.\""
   ]
  }
 ],
 "metadata": {
  "kernelspec": {
   "display_name": "Python 3 (ipykernel)",
   "language": "python",
   "name": "python3"
  },
  "language_info": {
   "codemirror_mode": {
    "name": "ipython",
    "version": 3
   },
   "file_extension": ".py",
   "mimetype": "text/x-python",
   "name": "python",
   "nbconvert_exporter": "python",
   "pygments_lexer": "ipython3",
   "version": "3.9.19"
  },
  "vscode": {
   "interpreter": {
    "hash": "aee8b7b246df8f9039afb4144a1f6fd8d2ca17a180786b69acc140d282b71a49"
   }
  }
 },
 "nbformat": 4,
 "nbformat_minor": 5
}
